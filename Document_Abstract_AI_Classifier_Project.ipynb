{
 "cells": [
  {
   "cell_type": "markdown",
   "metadata": {},
   "source": [
    "## Importing Libraries "
   ]
  },
  {
   "cell_type": "code",
   "execution_count": 2,
   "metadata": {},
   "outputs": [],
   "source": [
    "import pandas as pd\n",
    "import tensorflow as tf\n",
    "import folderstats\n",
    "import seaborn as sns\n",
    "from sklearn.preprocessing import OneHotEncoder, LabelEncoder\n",
    "from sklearn.model_selection import train_test_split\n",
    "from sklearn.feature_extraction.text import TfidfVectorizer\n",
    "from sklearn.naive_bayes import MultinomialNB\n",
    "from sklearn.pipeline import Pipeline"
   ]
  },
  {
   "cell_type": "markdown",
   "metadata": {},
   "source": [
    "## Downloading Project DataSet"
   ]
  },
  {
   "cell_type": "code",
   "execution_count": 3,
   "metadata": {},
   "outputs": [],
   "source": [
    "#!git clone https://github.com/Franck-Dernoncourt/pubmed-rct # Downloading DataSet"
   ]
  },
  {
   "cell_type": "code",
   "execution_count": 4,
   "metadata": {},
   "outputs": [
    {
     "name": "stdout",
     "output_type": "stream",
     "text": [
      "\u001b[34mPubMed_200k_RCT\u001b[m\u001b[m/\n",
      "\u001b[34mPubMed_200k_RCT_numbers_replaced_with_at_sign\u001b[m\u001b[m/\n",
      "\u001b[34mPubMed_20k_RCT\u001b[m\u001b[m/\n",
      "\u001b[34mPubMed_20k_RCT_numbers_replaced_with_at_sign\u001b[m\u001b[m/\n",
      "README.md\n"
     ]
    }
   ],
   "source": [
    "ls pubmed-rct/"
   ]
  },
  {
   "cell_type": "markdown",
   "metadata": {},
   "source": [
    "## Project Details"
   ]
  },
  {
   "cell_type": "code",
   "execution_count": 5,
   "metadata": {},
   "outputs": [
    {
     "data": {
      "text/markdown": [
       "# PubMed 200k RCT dataset\n",
       "\n",
       "The PubMed 200k RCT dataset is described in *Franck Dernoncourt, Ji Young Lee. [PubMed 200k RCT: a Dataset for Sequential Sentence Classification in Medical Abstracts](https://arxiv.org/abs/1710.06071). International Joint Conference on Natural Language Processing (IJCNLP). 2017.*\n",
       "\n",
       "Abstract:\n",
       "\n",
       "> PubMed 200k RCT is new dataset based on PubMed for sequential sentence classification. The dataset consists of approximately 200,000 abstracts of randomized controlled trials, totaling 2.3 million sentences. Each sentence of each abstract is labeled with their role in the abstract using one of the following classes: background, objective, method, result, or conclusion. The purpose of releasing this dataset is twofold. First, the majority of datasets for sequential short-text classification (i.e., classification of short texts that appear in sequences) are small: we hope that releasing a new large dataset will help develop more accurate algorithms for this task. Second, from an application perspective, researchers need better tools to efficiently skim through the literature. Automatically classifying each sentence in an abstract would help researchers read abstracts more efficiently, especially in fields where abstracts may be long, such as the medical field.\n",
       "\n",
       "\n",
       "Some miscellaneous information:\n",
       "- PubMed 20k is a subset of PubMed 200k. I.e., any abstract present in PubMed 20k is also present in PubMed 200k. \n",
       "- `PubMed_200k_RCT` is the same as `PubMed_200k_RCT_numbers_replaced_with_at_sign`, except that in the latter all numbers had been replaced by `@`. (same for `PubMed_20k_RCT` vs. `PubMed_20k_RCT_numbers_replaced_with_at_sign`).\n",
       "- Since Github file size limit is [100 MiB](https://stackoverflow.com/a/43098961/395857), we had to compress `PubMed_200k_RCT\\train.7z` and `PubMed_200k_RCT_numbers_replaced_with_at_sign\\train.zip`. To uncompress `train.7z`, you may use [7-Zip](http://www.7-zip.org/download.html) on Windows,  [Keka](http://www.kekaosx.com/en/) on Mac OS X, or [p7zip](http://p7zip.sourceforge.net/) on Linux.\n",
       "\n",
       "You are most welcome to share with us your analyses or work using this dataset!\n",
       "\n",
       "## Projects using the PubMed 200k RCT dataset\n",
       "\n",
       "- Titipat Achakulvisut, Chandra Bhagavatula, Daniel E Acuna, Konrad P Kording. [Claim Extraction for Scientific Publications](https://github.com/titipata/detecting-scientific-claim). 2018\n"
      ],
      "text/plain": [
       "<IPython.core.display.Markdown object>"
      ]
     },
     "metadata": {},
     "output_type": "display_data"
    }
   ],
   "source": [
    "from IPython.display import Markdown, display\n",
    "\n",
    "display(Markdown('pubmed-rct/README.md'))\n"
   ]
  },
  {
   "cell_type": "code",
   "execution_count": 6,
   "metadata": {},
   "outputs": [
    {
     "data": {
      "text/html": [
       "<div>\n",
       "<style scoped>\n",
       "    .dataframe tbody tr th:only-of-type {\n",
       "        vertical-align: middle;\n",
       "    }\n",
       "\n",
       "    .dataframe tbody tr th {\n",
       "        vertical-align: top;\n",
       "    }\n",
       "\n",
       "    .dataframe thead th {\n",
       "        text-align: right;\n",
       "    }\n",
       "</style>\n",
       "<table border=\"1\" class=\"dataframe\">\n",
       "  <thead>\n",
       "    <tr style=\"text-align: right;\">\n",
       "      <th></th>\n",
       "      <th>id</th>\n",
       "      <th>path</th>\n",
       "      <th>name</th>\n",
       "      <th>extension</th>\n",
       "      <th>size</th>\n",
       "      <th>atime</th>\n",
       "      <th>mtime</th>\n",
       "      <th>ctime</th>\n",
       "      <th>folder</th>\n",
       "      <th>num_files</th>\n",
       "      <th>depth</th>\n",
       "      <th>parent</th>\n",
       "      <th>uid</th>\n",
       "    </tr>\n",
       "  </thead>\n",
       "  <tbody>\n",
       "    <tr>\n",
       "      <th>59</th>\n",
       "      <td>1</td>\n",
       "      <td>pubmed-rct/</td>\n",
       "      <td></td>\n",
       "      <td>None</td>\n",
       "      <td>449322483</td>\n",
       "      <td>2022-02-02 22:59:21</td>\n",
       "      <td>2022-02-02 22:59:20</td>\n",
       "      <td>2022-02-02 22:59:20</td>\n",
       "      <td>True</td>\n",
       "      <td>39.0</td>\n",
       "      <td>0</td>\n",
       "      <td>0</td>\n",
       "      <td>501</td>\n",
       "    </tr>\n",
       "    <tr>\n",
       "      <th>54</th>\n",
       "      <td>15</td>\n",
       "      <td>pubmed-rct/.git</td>\n",
       "      <td>.git</td>\n",
       "      <td>None</td>\n",
       "      <td>185711302</td>\n",
       "      <td>2022-02-02 22:59:21</td>\n",
       "      <td>2022-02-02 22:59:20</td>\n",
       "      <td>2022-02-02 22:59:20</td>\n",
       "      <td>True</td>\n",
       "      <td>26.0</td>\n",
       "      <td>1</td>\n",
       "      <td>1</td>\n",
       "      <td>501</td>\n",
       "    </tr>\n",
       "    <tr>\n",
       "      <th>18</th>\n",
       "      <td>17</td>\n",
       "      <td>pubmed-rct/.git/objects</td>\n",
       "      <td>objects</td>\n",
       "      <td>None</td>\n",
       "      <td>185683049</td>\n",
       "      <td>2022-02-02 22:59:14</td>\n",
       "      <td>2022-02-02 22:59:13</td>\n",
       "      <td>2022-02-02 22:59:13</td>\n",
       "      <td>True</td>\n",
       "      <td>2.0</td>\n",
       "      <td>2</td>\n",
       "      <td>15</td>\n",
       "      <td>501</td>\n",
       "    </tr>\n",
       "    <tr>\n",
       "      <th>16</th>\n",
       "      <td>18</td>\n",
       "      <td>pubmed-rct/.git/objects/pack</td>\n",
       "      <td>pack</td>\n",
       "      <td>None</td>\n",
       "      <td>185682857</td>\n",
       "      <td>2022-02-02 22:59:20</td>\n",
       "      <td>2022-02-02 22:59:20</td>\n",
       "      <td>2022-02-02 22:59:20</td>\n",
       "      <td>True</td>\n",
       "      <td>2.0</td>\n",
       "      <td>3</td>\n",
       "      <td>17</td>\n",
       "      <td>501</td>\n",
       "    </tr>\n",
       "    <tr>\n",
       "      <th>15</th>\n",
       "      <td>20</td>\n",
       "      <td>pubmed-rct/.git/objects/pack/pack-a718c4f14679...</td>\n",
       "      <td>pack-a718c4f14679a5db0d6080d1544682fb14e154c4</td>\n",
       "      <td>pack</td>\n",
       "      <td>185680861</td>\n",
       "      <td>2022-02-02 22:59:20</td>\n",
       "      <td>2022-02-02 22:59:20</td>\n",
       "      <td>2022-02-02 22:59:20</td>\n",
       "      <td>False</td>\n",
       "      <td>NaN</td>\n",
       "      <td>3</td>\n",
       "      <td>18</td>\n",
       "      <td>501</td>\n",
       "    </tr>\n",
       "    <tr>\n",
       "      <th>8</th>\n",
       "      <td>7</td>\n",
       "      <td>pubmed-rct/PubMed_200k_RCT_numbers_replaced_wi...</td>\n",
       "      <td>PubMed_200k_RCT_numbers_replaced_with_at_sign</td>\n",
       "      <td>None</td>\n",
       "      <td>109467967</td>\n",
       "      <td>2022-02-02 22:59:21</td>\n",
       "      <td>2022-02-02 22:59:20</td>\n",
       "      <td>2022-02-02 22:59:20</td>\n",
       "      <td>True</td>\n",
       "      <td>3.0</td>\n",
       "      <td>1</td>\n",
       "      <td>1</td>\n",
       "      <td>501</td>\n",
       "    </tr>\n",
       "  </tbody>\n",
       "</table>\n",
       "</div>"
      ],
      "text/plain": [
       "    id                                               path  \\\n",
       "59   1                                        pubmed-rct/   \n",
       "54  15                                    pubmed-rct/.git   \n",
       "18  17                            pubmed-rct/.git/objects   \n",
       "16  18                       pubmed-rct/.git/objects/pack   \n",
       "15  20  pubmed-rct/.git/objects/pack/pack-a718c4f14679...   \n",
       "8    7  pubmed-rct/PubMed_200k_RCT_numbers_replaced_wi...   \n",
       "\n",
       "                                             name extension       size  \\\n",
       "59                                                     None  449322483   \n",
       "54                                           .git      None  185711302   \n",
       "18                                        objects      None  185683049   \n",
       "16                                           pack      None  185682857   \n",
       "15  pack-a718c4f14679a5db0d6080d1544682fb14e154c4      pack  185680861   \n",
       "8   PubMed_200k_RCT_numbers_replaced_with_at_sign      None  109467967   \n",
       "\n",
       "                 atime               mtime               ctime  folder  \\\n",
       "59 2022-02-02 22:59:21 2022-02-02 22:59:20 2022-02-02 22:59:20    True   \n",
       "54 2022-02-02 22:59:21 2022-02-02 22:59:20 2022-02-02 22:59:20    True   \n",
       "18 2022-02-02 22:59:14 2022-02-02 22:59:13 2022-02-02 22:59:13    True   \n",
       "16 2022-02-02 22:59:20 2022-02-02 22:59:20 2022-02-02 22:59:20    True   \n",
       "15 2022-02-02 22:59:20 2022-02-02 22:59:20 2022-02-02 22:59:20   False   \n",
       "8  2022-02-02 22:59:21 2022-02-02 22:59:20 2022-02-02 22:59:20    True   \n",
       "\n",
       "    num_files  depth  parent  uid  \n",
       "59       39.0      0       0  501  \n",
       "54       26.0      1       1  501  \n",
       "18        2.0      2      15  501  \n",
       "16        2.0      3      17  501  \n",
       "15        NaN      3      18  501  \n",
       "8         3.0      1       1  501  "
      ]
     },
     "execution_count": 6,
     "metadata": {},
     "output_type": "execute_result"
    }
   ],
   "source": [
    "folderstats.folderstats('pubmed-rct/').sort_values('size', ascending=False).head(6)"
   ]
  },
  {
   "cell_type": "code",
   "execution_count": 7,
   "metadata": {},
   "outputs": [
    {
     "name": "stdout",
     "output_type": "stream",
     "text": [
      "dev.txt    test.txt   train.txt\n"
     ]
    }
   ],
   "source": [
    "ls pubmed-rct/PubMed_20k_RCT/"
   ]
  },
  {
   "cell_type": "code",
   "execution_count": 8,
   "metadata": {},
   "outputs": [],
   "source": [
    "data_dir = 'pubmed-rct/PubMed_20k_RCT/'\n"
   ]
  },
  {
   "cell_type": "code",
   "execution_count": 9,
   "metadata": {},
   "outputs": [
    {
     "data": {
      "text/plain": [
       "['pubmed-rct/PubMed_20k_RCT/dev.txt',\n",
       " 'pubmed-rct/PubMed_20k_RCT/train.txt',\n",
       " 'pubmed-rct/PubMed_20k_RCT/test.txt']"
      ]
     },
     "execution_count": 9,
     "metadata": {},
     "output_type": "execute_result"
    }
   ],
   "source": [
    "import os\n",
    "filenames = [data_dir + filename for filename in os.listdir(data_dir)]\n",
    "filenames"
   ]
  },
  {
   "cell_type": "markdown",
   "metadata": {},
   "source": [
    "## Sample Data "
   ]
  },
  {
   "cell_type": "code",
   "execution_count": 10,
   "metadata": {},
   "outputs": [],
   "source": [
    "# Links to the document\n",
    "data_dir_1 =  'pubmed-rct/PubMed_20k_RCT/train.txt'\n",
    "data_dir_1_test =  'pubmed-rct/PubMed_20k_RCT/test.txt'\n",
    "data_dir_2 =  'pubmed-rct/PubMed_20k_RCT_numbers_replaced_with_at_sign/train.txt'\n",
    "data_dir_2_test =  'pubmed-rct/PubMed_20k_RCT_numbers_replaced_with_at_sign/test.txt'"
   ]
  },
  {
   "cell_type": "code",
   "execution_count": 11,
   "metadata": {},
   "outputs": [],
   "source": [
    "# Reading the Datasets\n",
    "def read_lines(filepath):\n",
    "    with open(filepath) as f:\n",
    "        return f.readlines()"
   ]
  },
  {
   "cell_type": "markdown",
   "metadata": {},
   "source": [
    "#### - Raw Data"
   ]
  },
  {
   "cell_type": "code",
   "execution_count": 12,
   "metadata": {},
   "outputs": [
    {
     "data": {
      "text/plain": [
       "['###24293578\\n',\n",
       " 'OBJECTIVE\\tTo investigate the efficacy of 6 weeks of daily low-dose oral prednisolone in improving pain , mobility , and systemic low-grade inflammation in the short term and whether the effect would be sustained at 12 weeks in older adults with moderate to severe knee osteoarthritis ( OA ) .\\n',\n",
       " 'METHODS\\tA total of 125 patients with primary knee OA were randomized 1:1 ; 63 received 7.5 mg/day of prednisolone and 62 received placebo for 6 weeks .\\n',\n",
       " 'METHODS\\tOutcome measures included pain reduction and improvement in function scores and systemic inflammation markers .\\n',\n",
       " 'METHODS\\tPain was assessed using the visual analog pain scale ( 0-100 mm ) .\\n',\n",
       " 'METHODS\\tSecondary outcome measures included the Western Ontario and McMaster Universities Osteoarthritis Index scores , patient global assessment ( PGA ) of the severity of knee OA , and 6-min walk distance ( 6MWD ) .\\n',\n",
       " 'METHODS\\tSerum levels of interleukin 1 ( IL-1 ) , IL-6 , tumor necrosis factor ( TNF ) - , and high-sensitivity C-reactive protein ( hsCRP ) were measured .\\n',\n",
       " 'RESULTS\\tThere was a clinically relevant reduction in the intervention group compared to the placebo group for knee pain , physical function , PGA , and 6MWD at 6 weeks .\\n',\n",
       " 'RESULTS\\tThe mean difference between treatment arms ( 95 % CI ) was 10.9 ( 4.8-18 .0 ) , p < 0.001 ; 9.5 ( 3.7-15 .4 ) , p < 0.05 ; 15.7 ( 5.3-26 .1 ) , p < 0.001 ; and 86.9 ( 29.8-144 .1 ) , p < 0.05 , respectively .\\n',\n",
       " 'RESULTS\\tFurther , there was a clinically relevant reduction in the serum levels of IL-1 , IL-6 , TNF - , and hsCRP at 6 weeks in the intervention group when compared to the placebo group .\\n']"
      ]
     },
     "execution_count": 12,
     "metadata": {},
     "output_type": "execute_result"
    }
   ],
   "source": [
    "read_lines(data_dir_1)[:10] # Reading the first 10 lines from the raw data \n"
   ]
  },
  {
   "cell_type": "markdown",
   "metadata": {},
   "source": [
    "#### - Partly Clean Data"
   ]
  },
  {
   "cell_type": "code",
   "execution_count": 13,
   "metadata": {},
   "outputs": [
    {
     "data": {
      "text/plain": [
       "['###24293578\\n',\n",
       " 'OBJECTIVE\\tTo investigate the efficacy of @ weeks of daily low-dose oral prednisolone in improving pain , mobility , and systemic low-grade inflammation in the short term and whether the effect would be sustained at @ weeks in older adults with moderate to severe knee osteoarthritis ( OA ) .\\n',\n",
       " 'METHODS\\tA total of @ patients with primary knee OA were randomized @:@ ; @ received @ mg/day of prednisolone and @ received placebo for @ weeks .\\n',\n",
       " 'METHODS\\tOutcome measures included pain reduction and improvement in function scores and systemic inflammation markers .\\n',\n",
       " 'METHODS\\tPain was assessed using the visual analog pain scale ( @-@ mm ) .\\n',\n",
       " 'METHODS\\tSecondary outcome measures included the Western Ontario and McMaster Universities Osteoarthritis Index scores , patient global assessment ( PGA ) of the severity of knee OA , and @-min walk distance ( @MWD ) .\\n',\n",
       " 'METHODS\\tSerum levels of interleukin @ ( IL-@ ) , IL-@ , tumor necrosis factor ( TNF ) - , and high-sensitivity C-reactive protein ( hsCRP ) were measured .\\n',\n",
       " 'RESULTS\\tThere was a clinically relevant reduction in the intervention group compared to the placebo group for knee pain , physical function , PGA , and @MWD at @ weeks .\\n',\n",
       " 'RESULTS\\tThe mean difference between treatment arms ( @ % CI ) was @ ( @-@ @ ) , p < @ ; @ ( @-@ @ ) , p < @ ; @ ( @-@ @ ) , p < @ ; and @ ( @-@ @ ) , p < @ , respectively .\\n',\n",
       " 'RESULTS\\tFurther , there was a clinically relevant reduction in the serum levels of IL-@ , IL-@ , TNF - , and hsCRP at @ weeks in the intervention group when compared to the placebo group .\\n']"
      ]
     },
     "execution_count": 13,
     "metadata": {},
     "output_type": "execute_result"
    }
   ],
   "source": [
    "read_lines(data_dir_2)[:10] # Reading the first 10 lines from the partly clean data "
   ]
  },
  {
   "cell_type": "markdown",
   "metadata": {},
   "source": [
    "## Preprocessing Text From Document"
   ]
  },
  {
   "cell_type": "code",
   "execution_count": 14,
   "metadata": {},
   "outputs": [],
   "source": [
    "def preprocess_text(filename):\n",
    "    \"\"\"\n",
    "    This function is used to preprocess text from the document and used to assign different sub heading to each of their headers\n",
    "    \"\"\"\n",
    "    \n",
    "    df_dict = {} \n",
    "    lines_list =[]\n",
    "    abstract_lines = ''\n",
    "    k = 0\n",
    "    input_lines = read_lines(filename)\n",
    "\n",
    "    for line in input_lines:\n",
    "        if line.startswith('###'):\n",
    "            abstract_id = line \n",
    "            abstract_lines = ''\n",
    "        elif line.isspace():\n",
    "            abstract_line_split = abstract_lines.splitlines()\n",
    "\n",
    "            for newlinenumber, newline in enumerate(abstract_line_split):\n",
    "                line_data = {}\n",
    "                target_text_split = newline.split('\\t')\n",
    "                line_data['target'] = target_text_split[0]\n",
    "                line_data['text'] = target_text_split[1]\n",
    "                line_data['line_number'] = newlinenumber\n",
    "                line_data['total_lines'] = len(abstract_line_split) - 1\n",
    "                lines_list.append(line_data)\n",
    "        else:\n",
    "            abstract_lines += line\n",
    "\n",
    "    return lines_list"
   ]
  },
  {
   "cell_type": "markdown",
   "metadata": {},
   "source": [
    "> Importing the preprocessed data\n",
    "\n",
    "There are two preprocessed data as supplied in the paper. One of them was supplied partly clean without numbers. There is one imported from raw data."
   ]
  },
  {
   "cell_type": "code",
   "execution_count": 15,
   "metadata": {},
   "outputs": [],
   "source": [
    "training_data  =  pd.DataFrame(preprocess_text(data_dir_1)) #loading Training Data from raw data \n",
    "training_data_without_numbers  =  pd.DataFrame(preprocess_text(data_dir_2)) #loading Training Data from half clean data "
   ]
  },
  {
   "cell_type": "code",
   "execution_count": 16,
   "metadata": {},
   "outputs": [],
   "source": [
    "test_data  =  pd.DataFrame(preprocess_text(data_dir_1_test)) #loading test Data from raw data\n",
    "test_data_without_numbers  =  pd.DataFrame(preprocess_text(data_dir_2_test)) #loading test Data from half clean data "
   ]
  },
  {
   "cell_type": "markdown",
   "metadata": {},
   "source": [
    "### Disribution of Document Parts"
   ]
  },
  {
   "cell_type": "code",
   "execution_count": 17,
   "metadata": {},
   "outputs": [
    {
     "data": {
      "text/plain": [
       "Text(0.5, 1.0, 'Number of Samples')"
      ]
     },
     "execution_count": 17,
     "metadata": {},
     "output_type": "execute_result"
    },
    {
     "data": {
      "image/png": "[encoded data removed]",
      "text/plain": [
       "<Figure size 432x288 with 1 Axes>"
      ]
     },
     "metadata": {
      "needs_background": "light"
     },
     "output_type": "display_data"
    }
   ],
   "source": [
    "import matplotlib.pyplot as plt\n",
    "sns.histplot(training_data['target']) \n",
    "plt.xticks(rotation=90)\n",
    "plt.title('Number of Samples')"
   ]
  },
  {
   "cell_type": "markdown",
   "metadata": {},
   "source": [
    "#### Splitting Datasets into training and Validation Parts"
   ]
  },
  {
   "cell_type": "code",
   "execution_count": 18,
   "metadata": {},
   "outputs": [],
   "source": [
    "training_dataset, validation_dataset = train_test_split(training_data)\n"
   ]
  },
  {
   "cell_type": "code",
   "execution_count": 19,
   "metadata": {},
   "outputs": [
    {
     "data": {
      "text/html": [
       "<div>\n",
       "<style scoped>\n",
       "    .dataframe tbody tr th:only-of-type {\n",
       "        vertical-align: middle;\n",
       "    }\n",
       "\n",
       "    .dataframe tbody tr th {\n",
       "        vertical-align: top;\n",
       "    }\n",
       "\n",
       "    .dataframe thead th {\n",
       "        text-align: right;\n",
       "    }\n",
       "</style>\n",
       "<table border=\"1\" class=\"dataframe\">\n",
       "  <thead>\n",
       "    <tr style=\"text-align: right;\">\n",
       "      <th></th>\n",
       "      <th>target</th>\n",
       "      <th>text</th>\n",
       "      <th>line_number</th>\n",
       "      <th>total_lines</th>\n",
       "    </tr>\n",
       "  </thead>\n",
       "  <tbody>\n",
       "    <tr>\n",
       "      <th>60888</th>\n",
       "      <td>RESULTS</td>\n",
       "      <td>The average and minimum oxygen saturation valu...</td>\n",
       "      <td>5</td>\n",
       "      <td>9</td>\n",
       "    </tr>\n",
       "    <tr>\n",
       "      <th>174484</th>\n",
       "      <td>METHODS</td>\n",
       "      <td>The participants with mild to moderate depress...</td>\n",
       "      <td>2</td>\n",
       "      <td>9</td>\n",
       "    </tr>\n",
       "    <tr>\n",
       "      <th>55297</th>\n",
       "      <td>METHODS</td>\n",
       "      <td>Random assignment ( by a validated computer-ba...</td>\n",
       "      <td>5</td>\n",
       "      <td>20</td>\n",
       "    </tr>\n",
       "    <tr>\n",
       "      <th>76094</th>\n",
       "      <td>CONCLUSIONS</td>\n",
       "      <td>The preperitoneal mesh placement during the re...</td>\n",
       "      <td>9</td>\n",
       "      <td>9</td>\n",
       "    </tr>\n",
       "    <tr>\n",
       "      <th>151967</th>\n",
       "      <td>BACKGROUND</td>\n",
       "      <td>NCT00486629 .</td>\n",
       "      <td>11</td>\n",
       "      <td>11</td>\n",
       "    </tr>\n",
       "    <tr>\n",
       "      <th>...</th>\n",
       "      <td>...</td>\n",
       "      <td>...</td>\n",
       "      <td>...</td>\n",
       "      <td>...</td>\n",
       "    </tr>\n",
       "    <tr>\n",
       "      <th>121430</th>\n",
       "      <td>METHODS</td>\n",
       "      <td>A tertiary centre for recurrent miscarriage in...</td>\n",
       "      <td>2</td>\n",
       "      <td>9</td>\n",
       "    </tr>\n",
       "    <tr>\n",
       "      <th>168862</th>\n",
       "      <td>RESULTS</td>\n",
       "      <td>NASH resolution was associated with significan...</td>\n",
       "      <td>8</td>\n",
       "      <td>13</td>\n",
       "    </tr>\n",
       "    <tr>\n",
       "      <th>84236</th>\n",
       "      <td>METHODS</td>\n",
       "      <td>This study is registered with ClinicalTrials.g...</td>\n",
       "      <td>11</td>\n",
       "      <td>19</td>\n",
       "    </tr>\n",
       "    <tr>\n",
       "      <th>165748</th>\n",
       "      <td>METHODS</td>\n",
       "      <td>Homogenates of esophageal biopsy specimens fro...</td>\n",
       "      <td>5</td>\n",
       "      <td>19</td>\n",
       "    </tr>\n",
       "    <tr>\n",
       "      <th>69076</th>\n",
       "      <td>METHODS</td>\n",
       "      <td>At baseline and 4-6 weeks after therapy , a co...</td>\n",
       "      <td>4</td>\n",
       "      <td>12</td>\n",
       "    </tr>\n",
       "  </tbody>\n",
       "</table>\n",
       "<p>135030 rows × 4 columns</p>\n",
       "</div>"
      ],
      "text/plain": [
       "             target                                               text  \\\n",
       "60888       RESULTS  The average and minimum oxygen saturation valu...   \n",
       "174484      METHODS  The participants with mild to moderate depress...   \n",
       "55297       METHODS  Random assignment ( by a validated computer-ba...   \n",
       "76094   CONCLUSIONS  The preperitoneal mesh placement during the re...   \n",
       "151967   BACKGROUND                                      NCT00486629 .   \n",
       "...             ...                                                ...   \n",
       "121430      METHODS  A tertiary centre for recurrent miscarriage in...   \n",
       "168862      RESULTS  NASH resolution was associated with significan...   \n",
       "84236       METHODS  This study is registered with ClinicalTrials.g...   \n",
       "165748      METHODS  Homogenates of esophageal biopsy specimens fro...   \n",
       "69076       METHODS  At baseline and 4-6 weeks after therapy , a co...   \n",
       "\n",
       "        line_number  total_lines  \n",
       "60888             5            9  \n",
       "174484            2            9  \n",
       "55297             5           20  \n",
       "76094             9            9  \n",
       "151967           11           11  \n",
       "...             ...          ...  \n",
       "121430            2            9  \n",
       "168862            8           13  \n",
       "84236            11           19  \n",
       "165748            5           19  \n",
       "69076             4           12  \n",
       "\n",
       "[135030 rows x 4 columns]"
      ]
     },
     "execution_count": 19,
     "metadata": {},
     "output_type": "execute_result"
    }
   ],
   "source": [
    "training_dataset"
   ]
  },
  {
   "cell_type": "markdown",
   "metadata": {},
   "source": [
    "#### Encoding Document Label (Targets) & Seperating Features"
   ]
  },
  {
   "cell_type": "code",
   "execution_count": 20,
   "metadata": {},
   "outputs": [
    {
     "name": "stderr",
     "output_type": "stream",
     "text": [
      "/Users/yaqoobao/Downloads/venv/lib/python3.8/site-packages/sklearn/preprocessing/_label.py:115: DataConversionWarning: A column-vector y was passed when a 1d array was expected. Please change the shape of y to (n_samples, ), for example using ravel().\n",
      "  y = column_or_1d(y, warn=True)\n"
     ]
    }
   ],
   "source": [
    "\n",
    "lb_encoder = LabelEncoder()\n",
    "y_train   = lb_encoder.fit_transform(training_data[['target']]) # Training Labels Using Label Encoder\n",
    "X_train = training_data['text'] # Training Features Seperation\n",
    "\n",
    "\n",
    "y_test   = lb_encoder.transform(test_data['target']) # Test Labels Using Label Encoder\n",
    "X_test = test_data['text'] # Test Features Seperation\n"
   ]
  },
  {
   "cell_type": "code",
   "execution_count": 21,
   "metadata": {},
   "outputs": [
    {
     "data": {
      "text/plain": [
       "array([3, 2, 2, ..., 4, 1, 1])"
      ]
     },
     "execution_count": 21,
     "metadata": {},
     "output_type": "execute_result"
    }
   ],
   "source": [
    "y_train"
   ]
  },
  {
   "cell_type": "markdown",
   "metadata": {},
   "source": [
    "## Model Experimentation"
   ]
  },
  {
   "cell_type": "markdown",
   "metadata": {},
   "source": [
    "#### Baseline Model Using MultinomialNB & TextVectorizer"
   ]
  },
  {
   "cell_type": "markdown",
   "metadata": {},
   "source": [
    "I decide to use `MultinomialNB` from sklearn as my Baseline Model. "
   ]
  },
  {
   "cell_type": "code",
   "execution_count": 22,
   "metadata": {},
   "outputs": [
    {
     "data": {
      "text/plain": [
       "Pipeline(steps=[('TextVectorizer', TfidfVectorizer()),\n",
       "                ('clf', MultinomialNB())])"
      ]
     },
     "execution_count": 22,
     "metadata": {},
     "output_type": "execute_result"
    }
   ],
   "source": [
    "# Building TFDF model Pipeline\n",
    "\n",
    "Tfdf_model  = Pipeline([\n",
    "    ('TextVectorizer', TfidfVectorizer()), # Vectorizing The Text\n",
    "    ('clf', MultinomialNB()) # Building a Multinomial NB Model\n",
    "]) # Building Model Pipeline\n",
    "\n",
    "Tfdf_model.fit(X_train, y_train ) # Fitting Model"
   ]
  },
  {
   "cell_type": "code",
   "execution_count": 23,
   "metadata": {},
   "outputs": [
    {
     "data": {
      "text/plain": [
       "0.7265637962502074"
      ]
     },
     "execution_count": 23,
     "metadata": {},
     "output_type": "execute_result"
    }
   ],
   "source": [
    "Tfdf_model.score(X_test, y_test) # Evaluating model"
   ]
  },
  {
   "cell_type": "code",
   "execution_count": 24,
   "metadata": {},
   "outputs": [],
   "source": [
    "y_pred = Tfdf_model.predict(X_test) # Prediction the test data"
   ]
  },
  {
   "cell_type": "code",
   "execution_count": 25,
   "metadata": {},
   "outputs": [],
   "source": [
    "from YaqoobFunctions import performance_measure_classification, plot_curve # Importing the performance calculation & plot curve code from my py file"
   ]
  },
  {
   "cell_type": "code",
   "execution_count": 26,
   "metadata": {},
   "outputs": [
    {
     "data": {
      "text/html": [
       "<div>\n",
       "<style scoped>\n",
       "    .dataframe tbody tr th:only-of-type {\n",
       "        vertical-align: middle;\n",
       "    }\n",
       "\n",
       "    .dataframe tbody tr th {\n",
       "        vertical-align: top;\n",
       "    }\n",
       "\n",
       "    .dataframe thead th {\n",
       "        text-align: right;\n",
       "    }\n",
       "</style>\n",
       "<table border=\"1\" class=\"dataframe\">\n",
       "  <thead>\n",
       "    <tr style=\"text-align: right;\">\n",
       "      <th></th>\n",
       "      <th>accuracy</th>\n",
       "      <th>cohen_kappa_score</th>\n",
       "      <th>recall</th>\n",
       "      <th>precision</th>\n",
       "      <th>f1</th>\n",
       "    </tr>\n",
       "  </thead>\n",
       "  <tbody>\n",
       "    <tr>\n",
       "      <th>MultinomalNB Baseline Model</th>\n",
       "      <td>0.726564</td>\n",
       "      <td>0.619929</td>\n",
       "      <td>0.726564</td>\n",
       "      <td>0.798564</td>\n",
       "      <td>0.753738</td>\n",
       "    </tr>\n",
       "  </tbody>\n",
       "</table>\n",
       "</div>"
      ],
      "text/plain": [
       "                             accuracy  cohen_kappa_score    recall  precision  \\\n",
       "MultinomalNB Baseline Model  0.726564           0.619929  0.726564   0.798564   \n",
       "\n",
       "                                   f1  \n",
       "MultinomalNB Baseline Model  0.753738  "
      ]
     },
     "execution_count": 26,
     "metadata": {},
     "output_type": "execute_result"
    }
   ],
   "source": [
    "performance_measure_classification(y_pred, y_test, model_name='MultinomalNB Baseline Model') "
   ]
  },
  {
   "cell_type": "markdown",
   "metadata": {},
   "source": [
    "## DEEP LEARNING APPROACH"
   ]
  },
  {
   "cell_type": "markdown",
   "metadata": {},
   "source": [
    "Data Exploration"
   ]
  },
  {
   "cell_type": "code",
   "execution_count": 27,
   "metadata": {},
   "outputs": [],
   "source": [
    "len_of_tokens = [len(i) for i in (training_data['text'].str.split())] \n",
    "    "
   ]
  },
  {
   "cell_type": "code",
   "execution_count": 28,
   "metadata": {},
   "outputs": [
    {
     "data": {
      "text/plain": [
       "'Each sentence has an average of 26 words'"
      ]
     },
     "execution_count": 28,
     "metadata": {},
     "output_type": "execute_result"
    }
   ],
   "source": [
    "'Each sentence has an average of {} words'.format(round(sum(len_of_tokens)/ len(len_of_tokens)))"
   ]
  },
  {
   "cell_type": "code",
   "execution_count": 29,
   "metadata": {},
   "outputs": [
    {
     "name": "stderr",
     "output_type": "stream",
     "text": [
      "/Users/yaqoobao/Downloads/venv/lib/python3.8/site-packages/seaborn/distributions.py:2619: FutureWarning: `distplot` is a deprecated function and will be removed in a future version. Please adapt your code to use either `displot` (a figure-level function with similar flexibility) or `histplot` (an axes-level function for histograms).\n",
      "  warnings.warn(msg, FutureWarning)\n"
     ]
    },
    {
     "data": {
      "text/plain": [
       "Text(0.5, 1.0, 'Distribution of number of words per sentence')"
      ]
     },
     "execution_count": 29,
     "metadata": {},
     "output_type": "execute_result"
    },
    {
     "data": {
      "image/png": "[encoded data removed]",
      "text/plain": [
       "<Figure size 432x288 with 1 Axes>"
      ]
     },
     "metadata": {
      "needs_background": "light"
     },
     "output_type": "display_data"
    }
   ],
   "source": [
    "sns.distplot(len_of_tokens)\n",
    "plt.title('Distribution of number of words per sentence')"
   ]
  },
  {
   "cell_type": "markdown",
   "metadata": {},
   "source": [
    "The distibution of the number of tokens per row show that there are around 25 words per sentences, In some extreme case of around 300 words "
   ]
  },
  {
   "cell_type": "code",
   "execution_count": 30,
   "metadata": {},
   "outputs": [
    {
     "data": {
      "text/plain": [
       "55.0"
      ]
     },
     "execution_count": 30,
     "metadata": {},
     "output_type": "execute_result"
    }
   ],
   "source": [
    "import numpy as np\n",
    "np.percentile(len_of_tokens, 95)"
   ]
  },
  {
   "cell_type": "markdown",
   "metadata": {},
   "source": [
    "95% of the samples have less than 55 words"
   ]
  },
  {
   "cell_type": "code",
   "execution_count": 31,
   "metadata": {},
   "outputs": [
    {
     "name": "stderr",
     "output_type": "stream",
     "text": [
      "2022-02-09 12:40:07.118707: I tensorflow/core/common_runtime/pluggable_device/pluggable_device_factory.cc:305] Could not identify NUMA node of platform GPU ID 0, defaulting to 0. Your kernel may not have been built with NUMA support.\n",
      "2022-02-09 12:40:07.118849: I tensorflow/core/common_runtime/pluggable_device/pluggable_device_factory.cc:271] Created TensorFlow device (/job:localhost/replica:0/task:0/device:GPU:0 with 0 MB memory) -> physical PluggableDevice (device: 0, name: METAL, pci bus id: <undefined>)\n",
      "2022-02-09 12:40:07.165701: W tensorflow/core/platform/profile_utils/cpu_utils.cc:128] Failed to get CPU frequency: 0 Hz\n",
      "2022-02-09 12:40:07.205914: I tensorflow/core/grappler/optimizers/custom_graph_optimizer_registry.cc:112] Plugin optimizer for device_type GPU is enabled.\n"
     ]
    },
    {
     "name": "stdout",
     "output_type": "stream",
     "text": [
      "Metal device set to: Apple M1 Pro\n",
      "\n",
      "systemMemory: 16.00 GB\n",
      "maxCacheSize: 5.33 GB\n",
      "\n"
     ]
    }
   ],
   "source": [
    "from tensorflow.keras.layers.experimental.preprocessing import TextVectorization\n",
    "from tensorflow.keras.layers import Embedding\n",
    "text_vectorizer = TextVectorization(\n",
    "    max_tokens=68000, # given in paper \n",
    "    output_sequence_length = int(np.percentile(len_of_tokens, 95)) # per example\n",
    ")\n",
    "text_vectorizer.adapt(training_data['text'])\n",
    "token_embed = Embedding(input_dim=len(text_vectorizer.get_vocabulary()), \n",
    "                        output_dim=128,\n",
    "                        name='Embedding_Layer') # Data embedding"
   ]
  },
  {
   "cell_type": "markdown",
   "metadata": {},
   "source": [
    "#### Preprocessing And Re-Creating Datasets Using Tf.Data.API"
   ]
  },
  {
   "cell_type": "code",
   "execution_count": 32,
   "metadata": {},
   "outputs": [],
   "source": [
    "ohe = OneHotEncoder(sparse=False)\n",
    "training_labels   = ohe.fit_transform(training_dataset['target'].to_numpy().reshape(-1,1))  # Training Labels Using One Hot Encoding\n",
    "training_dataset = training_dataset[['text']] # Training Features Seperation\n",
    "tf_train_dataset = tf.data.Dataset.from_tensor_slices((training_dataset,training_labels ))\n",
    "tf_train_dataset = tf_train_dataset.batch(32).prefetch(tf.data.AUTOTUNE)\n",
    "\n",
    "def prepare_data(ohe, dataset, target_column, feature_columns):\n",
    "    '''\n",
    "    This function is used to prepare the dataset for a very efficient experience during the training and test\n",
    "    '''\n",
    "    labels = ohe.transform(dataset[target_column].to_numpy().reshape(-1,1)) #One Hot Encoding\n",
    "    tf_dataset =  tf.data.Dataset.from_tensor_slices((dataset[feature_columns],labels ))\n",
    "    return tf_dataset.batch(32).prefetch(tf.data.AUTOTUNE) # prefetch and batch data for optimal performance\n",
    "\n",
    "\n",
    "tf_testing_dataset = prepare_data(ohe, test_data, 'target', ['text'])\n",
    "tf_validation_dataset = prepare_data(ohe, validation_dataset, 'target', ['text'])"
   ]
  },
  {
   "cell_type": "markdown",
   "metadata": {},
   "source": [
    "### Model Experiment"
   ]
  },
  {
   "cell_type": "markdown",
   "metadata": {},
   "source": [
    "#### Conv1D Model Experiment"
   ]
  },
  {
   "cell_type": "code",
   "execution_count": 33,
   "metadata": {},
   "outputs": [],
   "source": [
    "tf_validation_dataset\n",
    "inputs =  tf.keras.layers.Input(shape=(1,), dtype=tf.string) \n",
    "text_vectors = text_vectorizer(inputs)\n",
    "token_embeddings = token_embed(text_vectors)\n",
    "x = tf.keras.layers.Conv1D(64, kernel_size=5, activation='relu')(token_embeddings)\n",
    "x = tf.keras.layers.GlobalAveragePooling1D()(x)\n",
    "outputs =tf.keras.layers.Dense(5, activation='softmax')(x)\n",
    "Conv1D_Model = tf.keras.Model(inputs, outputs)\n",
    "\n",
    "Conv1D_Model.compile(metrics =['accuracy'], \n",
    "                    loss='categorical_crossentropy', \n",
    "                    optimizer='Adam')"
   ]
  },
  {
   "cell_type": "markdown",
   "metadata": {},
   "source": [
    "##### Plotting the Conv1D Model"
   ]
  },
  {
   "cell_type": "code",
   "execution_count": 34,
   "metadata": {},
   "outputs": [
    {
     "data": {
      "image/png": "[encoded data removed]",
      "text/plain": [
       "<IPython.core.display.Image object>"
      ]
     },
     "execution_count": 34,
     "metadata": {},
     "output_type": "execute_result"
    }
   ],
   "source": [
    "from tensorflow.keras.utils import plot_model\n",
    "plot_model(Conv1D_Model)"
   ]
  },
  {
   "cell_type": "code",
   "execution_count": 35,
   "metadata": {},
   "outputs": [
    {
     "name": "stdout",
     "output_type": "stream",
     "text": [
      "Model: \"model\"\n",
      "_________________________________________________________________\n",
      " Layer (type)                Output Shape              Param #   \n",
      "=================================================================\n",
      " input_1 (InputLayer)        [(None, 1)]               0         \n",
      "                                                                 \n",
      " text_vectorization (TextVec  (None, 55)               0         \n",
      " torization)                                                     \n",
      "                                                                 \n",
      " Embedding_Layer (Embedding)  (None, 55, 128)          8704000   \n",
      "                                                                 \n",
      " conv1d (Conv1D)             (None, 51, 64)            41024     \n",
      "                                                                 \n",
      " global_average_pooling1d (G  (None, 64)               0         \n",
      " lobalAveragePooling1D)                                          \n",
      "                                                                 \n",
      " dense (Dense)               (None, 5)                 325       \n",
      "                                                                 \n",
      "=================================================================\n",
      "Total params: 8,745,349\n",
      "Trainable params: 8,745,349\n",
      "Non-trainable params: 0\n",
      "_________________________________________________________________\n"
     ]
    }
   ],
   "source": [
    "Conv1D_Model.summary()"
   ]
  },
  {
   "cell_type": "code",
   "execution_count": 36,
   "metadata": {},
   "outputs": [
    {
     "name": "stdout",
     "output_type": "stream",
     "text": [
      "Epoch 1/5\n"
     ]
    },
    {
     "name": "stderr",
     "output_type": "stream",
     "text": [
      "2022-02-09 12:40:11.838509: I tensorflow/core/grappler/optimizers/custom_graph_optimizer_registry.cc:112] Plugin optimizer for device_type GPU is enabled.\n"
     ]
    },
    {
     "name": "stdout",
     "output_type": "stream",
     "text": [
      "633/633 [==============================] - ETA: 0s - loss: 0.8897 - accuracy: 0.6497"
     ]
    },
    {
     "name": "stderr",
     "output_type": "stream",
     "text": [
      "2022-02-09 12:40:25.273031: I tensorflow/core/grappler/optimizers/custom_graph_optimizer_registry.cc:112] Plugin optimizer for device_type GPU is enabled.\n"
     ]
    },
    {
     "name": "stdout",
     "output_type": "stream",
     "text": [
      "633/633 [==============================] - 15s 23ms/step - loss: 0.8897 - accuracy: 0.6497 - val_loss: 0.6908 - val_accuracy: 0.7294\n",
      "Epoch 2/5\n",
      "633/633 [==============================] - 14s 22ms/step - loss: 0.6680 - accuracy: 0.7456 - val_loss: 0.6281 - val_accuracy: 0.7650\n",
      "Epoch 3/5\n",
      "633/633 [==============================] - 14s 22ms/step - loss: 0.6224 - accuracy: 0.7735 - val_loss: 0.5878 - val_accuracy: 0.7903\n",
      "Epoch 4/5\n",
      "633/633 [==============================] - 14s 22ms/step - loss: 0.5832 - accuracy: 0.7884 - val_loss: 0.5737 - val_accuracy: 0.7924\n",
      "Epoch 5/5\n",
      "633/633 [==============================] - 14s 22ms/step - loss: 0.5675 - accuracy: 0.7986 - val_loss: 0.5531 - val_accuracy: 0.8014\n"
     ]
    }
   ],
   "source": [
    "\n",
    "History = Conv1D_Model.fit(tf_train_dataset, \n",
    "                                                        steps_per_epoch=int(0.15 *len(tf_train_dataset)),\n",
    "                                                        validation_data=tf_validation_dataset,\n",
    "                                                        validation_steps=int(0.15 * len(tf_validation_dataset)),\n",
    "                                                         epochs=5)"
   ]
  },
  {
   "cell_type": "code",
   "execution_count": 37,
   "metadata": {},
   "outputs": [
    {
     "data": {
      "image/png": "[encoded data removed]",
      "text/plain": [
       "<Figure size 432x288 with 1 Axes>"
      ]
     },
     "metadata": {},
     "output_type": "display_data"
    }
   ],
   "source": [
    "sns.set()\n",
    "plot_curve(History, 'Convo1D_Model')"
   ]
  },
  {
   "cell_type": "code",
   "execution_count": 38,
   "metadata": {},
   "outputs": [
    {
     "name": "stderr",
     "output_type": "stream",
     "text": [
      "2022-02-09 12:41:21.309297: I tensorflow/core/grappler/optimizers/custom_graph_optimizer_registry.cc:112] Plugin optimizer for device_type GPU is enabled.\n"
     ]
    },
    {
     "data": {
      "text/plain": [
       "<tf.Tensor: shape=(30135,), dtype=int64, numpy=array([0, 2, 2, ..., 4, 4, 4])>"
      ]
     },
     "execution_count": 38,
     "metadata": {},
     "output_type": "execute_result"
    }
   ],
   "source": [
    "tf.argmax(Conv1D_Model.predict(tf_testing_dataset), axis=1)"
   ]
  },
  {
   "cell_type": "code",
   "execution_count": 39,
   "metadata": {},
   "outputs": [
    {
     "data": {
      "text/html": [
       "<div>\n",
       "<style scoped>\n",
       "    .dataframe tbody tr th:only-of-type {\n",
       "        vertical-align: middle;\n",
       "    }\n",
       "\n",
       "    .dataframe tbody tr th {\n",
       "        vertical-align: top;\n",
       "    }\n",
       "\n",
       "    .dataframe thead th {\n",
       "        text-align: right;\n",
       "    }\n",
       "</style>\n",
       "<table border=\"1\" class=\"dataframe\">\n",
       "  <thead>\n",
       "    <tr style=\"text-align: right;\">\n",
       "      <th></th>\n",
       "      <th>accuracy</th>\n",
       "      <th>cohen_kappa_score</th>\n",
       "      <th>recall</th>\n",
       "      <th>precision</th>\n",
       "      <th>f1</th>\n",
       "    </tr>\n",
       "  </thead>\n",
       "  <tbody>\n",
       "    <tr>\n",
       "      <th>Conv1D</th>\n",
       "      <td>0.797876</td>\n",
       "      <td>0.726524</td>\n",
       "      <td>0.797876</td>\n",
       "      <td>0.810458</td>\n",
       "      <td>0.801136</td>\n",
       "    </tr>\n",
       "  </tbody>\n",
       "</table>\n",
       "</div>"
      ],
      "text/plain": [
       "        accuracy  cohen_kappa_score    recall  precision        f1\n",
       "Conv1D  0.797876           0.726524  0.797876   0.810458  0.801136"
      ]
     },
     "execution_count": 39,
     "metadata": {},
     "output_type": "execute_result"
    }
   ],
   "source": [
    "performance_measure_classification(tf.argmax(Conv1D_Model.predict(tf_testing_dataset), axis=1), y_test, 'Conv1D' )"
   ]
  },
  {
   "cell_type": "markdown",
   "metadata": {},
   "source": [
    "#### Conv1D Model Using Transfer learning (Universal Sentence Encoder)"
   ]
  },
  {
   "cell_type": "code",
   "execution_count": 40,
   "metadata": {},
   "outputs": [
    {
     "name": "stderr",
     "output_type": "stream",
     "text": [
      "2022-02-09 12:41:40.917245: I tensorflow/core/grappler/optimizers/custom_graph_optimizer_registry.cc:112] Plugin optimizer for device_type GPU is enabled.\n"
     ]
    }
   ],
   "source": [
    "import tensorflow_hub as hub\n",
    "\n",
    "Use_embed_V3 = hub.KerasLayer(\"https://tfhub.dev/google/universal-sentence-encoder-large/5\") # importing the version 5 of USE\n",
    "\n"
   ]
  },
  {
   "cell_type": "code",
   "execution_count": 41,
   "metadata": {},
   "outputs": [],
   "source": [
    "tf_validation_dataset\n",
    "inputs =  tf.keras.layers.Input(shape=[], dtype=tf.string) \n",
    "token_embeddings = Use_embed_V3(inputs)\n",
    "x = tf.keras.layers.Dense(128, activation='relu')(token_embeddings)\n",
    "outputs =tf.keras.layers.Dense(5, activation='softmax')(x)\n",
    "Conv1D_Model_USE_V3 = tf.keras.Model(inputs, outputs)\n",
    "Conv1D_Model_USE_V3.compile(metrics =['accuracy'], loss='categorical_crossentropy', optimizer='Adam')"
   ]
  },
  {
   "cell_type": "code",
   "execution_count": 42,
   "metadata": {},
   "outputs": [
    {
     "name": "stdout",
     "output_type": "stream",
     "text": [
      "Model: \"model_1\"\n",
      "_________________________________________________________________\n",
      " Layer (type)                Output Shape              Param #   \n",
      "=================================================================\n",
      " input_2 (InputLayer)        [(None,)]                 0         \n",
      "                                                                 \n",
      " keras_layer (KerasLayer)    (None, 512)               147354880 \n",
      "                                                                 \n",
      " dense_1 (Dense)             (None, 128)               65664     \n",
      "                                                                 \n",
      " dense_2 (Dense)             (None, 5)                 645       \n",
      "                                                                 \n",
      "=================================================================\n",
      "Total params: 147,421,189\n",
      "Trainable params: 66,309\n",
      "Non-trainable params: 147,354,880\n",
      "_________________________________________________________________\n"
     ]
    }
   ],
   "source": [
    "Conv1D_Model_USE_V3.summary()"
   ]
  },
  {
   "cell_type": "code",
   "execution_count": 43,
   "metadata": {},
   "outputs": [
    {
     "name": "stdout",
     "output_type": "stream",
     "text": [
      "Epoch 1/5\n"
     ]
    },
    {
     "name": "stderr",
     "output_type": "stream",
     "text": [
      "2022-02-09 12:41:53.028031: I tensorflow/core/grappler/optimizers/custom_graph_optimizer_registry.cc:112] Plugin optimizer for device_type GPU is enabled.\n"
     ]
    },
    {
     "name": "stdout",
     "output_type": "stream",
     "text": [
      "633/633 [==============================] - ETA: 0s - loss: 0.7753 - accuracy: 0.7112"
     ]
    },
    {
     "name": "stderr",
     "output_type": "stream",
     "text": [
      "2022-02-09 12:45:27.172890: I tensorflow/core/grappler/optimizers/custom_graph_optimizer_registry.cc:112] Plugin optimizer for device_type GPU is enabled.\n"
     ]
    },
    {
     "name": "stdout",
     "output_type": "stream",
     "text": [
      "633/633 [==============================] - 313s 477ms/step - loss: 0.7753 - accuracy: 0.7112 - val_loss: 0.6528 - val_accuracy: 0.7568\n",
      "Epoch 2/5\n",
      "633/633 [==============================] - 381s 602ms/step - loss: 0.6327 - accuracy: 0.7646 - val_loss: 0.6152 - val_accuracy: 0.7741\n",
      "Epoch 3/5\n",
      "633/633 [==============================] - 436s 690ms/step - loss: 0.6099 - accuracy: 0.7742 - val_loss: 0.5936 - val_accuracy: 0.7810\n",
      "Epoch 4/5\n",
      "633/633 [==============================] - 474s 749ms/step - loss: 0.5887 - accuracy: 0.7817 - val_loss: 0.5773 - val_accuracy: 0.7878\n",
      "Epoch 5/5\n",
      "633/633 [==============================] - 496s 783ms/step - loss: 0.5769 - accuracy: 0.7816 - val_loss: 0.5786 - val_accuracy: 0.7855\n"
     ]
    }
   ],
   "source": [
    "History_Conv1D_Model_USE_V3 = Conv1D_Model_USE_V3.fit(tf_train_dataset, \n",
    "                                                        steps_per_epoch=int(0.15 *len(tf_train_dataset)),\n",
    "                                                        validation_data=tf_validation_dataset,\n",
    "                                                        validation_steps=int(0.15 * len(tf_validation_dataset)),\n",
    "                                                         epochs=5)"
   ]
  },
  {
   "cell_type": "code",
   "execution_count": 44,
   "metadata": {},
   "outputs": [],
   "source": [
    "tf_train_dataset = tf.data.Dataset.from_tensor_slices((training_dataset,training_labels ))\n",
    "tf_train_dataset = tf_train_dataset.batch(32).prefetch(tf.data.AUTOTUNE)"
   ]
  },
  {
   "cell_type": "code",
   "execution_count": 45,
   "metadata": {},
   "outputs": [
    {
     "data": {
      "image/png": "[encoded data removed]",
      "text/plain": [
       "<Figure size 432x288 with 1 Axes>"
      ]
     },
     "metadata": {},
     "output_type": "display_data"
    }
   ],
   "source": [
    "plot_curve(History_Conv1D_Model_USE_V3, 'Convo1D_Model')"
   ]
  },
  {
   "cell_type": "code",
   "execution_count": 46,
   "metadata": {},
   "outputs": [
    {
     "name": "stderr",
     "output_type": "stream",
     "text": [
      "2022-02-09 13:16:45.223165: I tensorflow/core/grappler/optimizers/custom_graph_optimizer_registry.cc:112] Plugin optimizer for device_type GPU is enabled.\n"
     ]
    },
    {
     "data": {
      "text/html": [
       "<div>\n",
       "<style scoped>\n",
       "    .dataframe tbody tr th:only-of-type {\n",
       "        vertical-align: middle;\n",
       "    }\n",
       "\n",
       "    .dataframe tbody tr th {\n",
       "        vertical-align: top;\n",
       "    }\n",
       "\n",
       "    .dataframe thead th {\n",
       "        text-align: right;\n",
       "    }\n",
       "</style>\n",
       "<table border=\"1\" class=\"dataframe\">\n",
       "  <thead>\n",
       "    <tr style=\"text-align: right;\">\n",
       "      <th></th>\n",
       "      <th>accuracy</th>\n",
       "      <th>cohen_kappa_score</th>\n",
       "      <th>recall</th>\n",
       "      <th>precision</th>\n",
       "      <th>f1</th>\n",
       "    </tr>\n",
       "  </thead>\n",
       "  <tbody>\n",
       "    <tr>\n",
       "      <th>Conv1D_Model_USE_V3</th>\n",
       "      <td>0.783408</td>\n",
       "      <td>0.707456</td>\n",
       "      <td>0.783408</td>\n",
       "      <td>0.791442</td>\n",
       "      <td>0.785711</td>\n",
       "    </tr>\n",
       "  </tbody>\n",
       "</table>\n",
       "</div>"
      ],
      "text/plain": [
       "                     accuracy  cohen_kappa_score    recall  precision  \\\n",
       "Conv1D_Model_USE_V3  0.783408           0.707456  0.783408   0.791442   \n",
       "\n",
       "                           f1  \n",
       "Conv1D_Model_USE_V3  0.785711  "
      ]
     },
     "execution_count": 46,
     "metadata": {},
     "output_type": "execute_result"
    }
   ],
   "source": [
    "\n",
    "performance_measure_classification(tf.argmax(Conv1D_Model_USE_V3.predict(tf_testing_dataset), axis=1), y_test, 'Conv1D_Model_USE_V3' )"
   ]
  },
  {
   "cell_type": "markdown",
   "metadata": {},
   "source": [
    "#### Conv1D Model Using Character-Level Embedding"
   ]
  },
  {
   "cell_type": "code",
   "execution_count": 47,
   "metadata": {},
   "outputs": [],
   "source": [
    "def split_word_to_letter(text):\n",
    "    return \" \".join(text)"
   ]
  },
  {
   "cell_type": "code",
   "execution_count": 48,
   "metadata": {},
   "outputs": [],
   "source": [
    "training_data['text_char_level'] = [split_word_to_letter(sentence) for sentence in training_data['text']]\n",
    "validation_dataset['text_char_level'] = [split_word_to_letter(sentence) for sentence in validation_dataset['text']]\n",
    "test_data['text_char_level'] = [split_word_to_letter(sentence) for sentence in test_data['text']]\n"
   ]
  },
  {
   "cell_type": "code",
   "execution_count": 49,
   "metadata": {},
   "outputs": [
    {
     "data": {
      "text/plain": [
       "68"
      ]
     },
     "execution_count": 49,
     "metadata": {},
     "output_type": "execute_result"
    }
   ],
   "source": [
    "import string\n",
    "all_alphabets = string.ascii_lowercase + string.digits + string.punctuation # All Alphabets\n",
    "len(all_alphabets)"
   ]
  },
  {
   "cell_type": "code",
   "execution_count": 50,
   "metadata": {},
   "outputs": [],
   "source": [
    "training_data\n",
    "\n",
    "tf_training_data_char = prepare_data(ohe, training_data, 'target', ['text_char_level'])\n",
    "tf_validation_data_char = prepare_data(ohe, validation_dataset, 'target', ['text_char_level'])\n",
    "tf_test_data_char = prepare_data(ohe, test_data, 'target', ['text_char_level'])"
   ]
  },
  {
   "cell_type": "code",
   "execution_count": 51,
   "metadata": {},
   "outputs": [
    {
     "name": "stderr",
     "output_type": "stream",
     "text": [
      "2022-02-09 13:25:26.993828: I tensorflow/core/grappler/optimizers/custom_graph_optimizer_registry.cc:112] Plugin optimizer for device_type GPU is enabled.\n"
     ]
    },
    {
     "data": {
      "text/plain": [
       "<tf.Tensor: shape=(180040, 290), dtype=int64, numpy=\n",
       "array([[ 3,  7,  4, ...,  0,  0,  0],\n",
       "       [ 5,  3,  7, ...,  0,  0,  0],\n",
       "       [ 7, 16,  3, ...,  0,  0,  0],\n",
       "       ...,\n",
       "       [22,  7,  3, ...,  0,  0,  0],\n",
       "       [11,  7, 15, ...,  0,  0,  0],\n",
       "       [14, 12,  5, ...,  0,  0,  0]])>"
      ]
     },
     "execution_count": 51,
     "metadata": {},
     "output_type": "execute_result"
    }
   ],
   "source": [
    "NUM_CHAR_TOKENS = len(all_alphabets) + 2 \n",
    "char_vectorizer = TextVectorization(max_tokens=NUM_CHAR_TOKENS, output_sequence_length=290, name='char_vectorizer')\n",
    "char_vectorizer.adapt(training_data['text_char_level'])\n",
    "char_vectorizer_embed = Embedding(input_dim=len(char_vectorizer.get_vocabulary()), \n",
    "                        output_dim=25, #As requested in the paper\n",
    "                        mask_zero=True,\n",
    "                        name='Embedding_Layer')\n",
    "\n",
    "char_vectorizer(training_data['text_char_level'])"
   ]
  },
  {
   "cell_type": "code",
   "execution_count": 52,
   "metadata": {},
   "outputs": [
    {
     "data": {
      "text/plain": [
       "TensorShape([290, 25])"
      ]
     },
     "execution_count": 52,
     "metadata": {},
     "output_type": "execute_result"
    }
   ],
   "source": [
    "char_vectorizer_embed(char_vectorizer(training_data['text_char_level'][1])).shape"
   ]
  },
  {
   "cell_type": "code",
   "execution_count": 53,
   "metadata": {},
   "outputs": [],
   "source": [
    "inputs =  tf.keras.layers.Input(shape=(1,), dtype=tf.string) \n",
    "text_vectors = char_vectorizer(inputs)\n",
    "token_embeddings = char_vectorizer_embed(text_vectors)\n",
    "x = tf.keras.layers.Conv1D(64, kernel_size=5, activation='relu')(token_embeddings)\n",
    "x = tf.keras.layers.GlobalAveragePooling1D()(x)\n",
    "outputs =tf.keras.layers.Dense(5, activation='softmax')(x)\n",
    "Conv1D_Model_Char = tf.keras.Model(inputs, outputs)\n",
    "\n",
    "Conv1D_Model_Char.compile(metrics =['accuracy'], \n",
    "                    loss='categorical_crossentropy', \n",
    "                    optimizer='Adam')"
   ]
  },
  {
   "cell_type": "code",
   "execution_count": 54,
   "metadata": {},
   "outputs": [
    {
     "name": "stdout",
     "output_type": "stream",
     "text": [
      "Epoch 1/5\n"
     ]
    },
    {
     "name": "stderr",
     "output_type": "stream",
     "text": [
      "2022-02-09 13:25:33.710930: I tensorflow/core/grappler/optimizers/custom_graph_optimizer_registry.cc:112] Plugin optimizer for device_type GPU is enabled.\n"
     ]
    },
    {
     "name": "stdout",
     "output_type": "stream",
     "text": [
      "5627/5627 [==============================] - ETA: 0s - loss: 1.2085 - accuracy: 0.5069"
     ]
    },
    {
     "name": "stderr",
     "output_type": "stream",
     "text": [
      "2022-02-09 13:28:50.621166: I tensorflow/core/grappler/optimizers/custom_graph_optimizer_registry.cc:112] Plugin optimizer for device_type GPU is enabled.\n"
     ]
    },
    {
     "name": "stdout",
     "output_type": "stream",
     "text": [
      "5627/5627 [==============================] - 212s 38ms/step - loss: 1.2085 - accuracy: 0.5069 - val_loss: 1.1513 - val_accuracy: 0.5349\n",
      "Epoch 2/5\n",
      "5627/5627 [==============================] - 210s 37ms/step - loss: 1.1190 - accuracy: 0.5481 - val_loss: 1.0859 - val_accuracy: 0.5595\n",
      "Epoch 3/5\n",
      "5627/5627 [==============================] - 210s 37ms/step - loss: 1.0524 - accuracy: 0.5740 - val_loss: 1.0229 - val_accuracy: 0.5871\n",
      "Epoch 4/5\n",
      "5627/5627 [==============================] - 208s 37ms/step - loss: 0.9927 - accuracy: 0.6028 - val_loss: 0.9717 - val_accuracy: 0.6141\n",
      "Epoch 5/5\n",
      "5627/5627 [==============================] - 210s 37ms/step - loss: 0.9418 - accuracy: 0.6284 - val_loss: 0.9244 - val_accuracy: 0.6373\n"
     ]
    },
    {
     "data": {
      "text/plain": [
       "<keras.callbacks.History at 0x2bc21f3a0>"
      ]
     },
     "execution_count": 54,
     "metadata": {},
     "output_type": "execute_result"
    }
   ],
   "source": [
    "Conv1D_Model_Char.fit(tf_training_data_char, validation_data=tf_validation_data_char, epochs=5)"
   ]
  },
  {
   "cell_type": "code",
   "execution_count": 55,
   "metadata": {},
   "outputs": [
    {
     "name": "stderr",
     "output_type": "stream",
     "text": [
      "2022-02-09 13:43:02.980860: I tensorflow/core/grappler/optimizers/custom_graph_optimizer_registry.cc:112] Plugin optimizer for device_type GPU is enabled.\n"
     ]
    },
    {
     "data": {
      "text/html": [
       "<div>\n",
       "<style scoped>\n",
       "    .dataframe tbody tr th:only-of-type {\n",
       "        vertical-align: middle;\n",
       "    }\n",
       "\n",
       "    .dataframe tbody tr th {\n",
       "        vertical-align: top;\n",
       "    }\n",
       "\n",
       "    .dataframe thead th {\n",
       "        text-align: right;\n",
       "    }\n",
       "</style>\n",
       "<table border=\"1\" class=\"dataframe\">\n",
       "  <thead>\n",
       "    <tr style=\"text-align: right;\">\n",
       "      <th></th>\n",
       "      <th>accuracy</th>\n",
       "      <th>cohen_kappa_score</th>\n",
       "      <th>recall</th>\n",
       "      <th>precision</th>\n",
       "      <th>f1</th>\n",
       "    </tr>\n",
       "  </thead>\n",
       "  <tbody>\n",
       "    <tr>\n",
       "      <th>Conv1D_Model_Char</th>\n",
       "      <td>0.637763</td>\n",
       "      <td>0.502507</td>\n",
       "      <td>0.637763</td>\n",
       "      <td>0.676794</td>\n",
       "      <td>0.65313</td>\n",
       "    </tr>\n",
       "  </tbody>\n",
       "</table>\n",
       "</div>"
      ],
      "text/plain": [
       "                   accuracy  cohen_kappa_score    recall  precision       f1\n",
       "Conv1D_Model_Char  0.637763           0.502507  0.637763   0.676794  0.65313"
      ]
     },
     "execution_count": 55,
     "metadata": {},
     "output_type": "execute_result"
    }
   ],
   "source": [
    "performance_measure_classification(tf.argmax(Conv1D_Model_Char.predict(tf_test_data_char), axis=1), y_test, 'Conv1D_Model_Char' )"
   ]
  },
  {
   "cell_type": "markdown",
   "metadata": {},
   "source": [
    "# Pretrained Token Embeddings + Characters Embeddings (Hybrid)"
   ]
  },
  {
   "cell_type": "code",
   "execution_count": 56,
   "metadata": {},
   "outputs": [],
   "source": [
    "#Token Embedding\n",
    "token_inputs=  tf.keras.layers.Input(shape=[], dtype=tf.string, name='Token_Input_Layer')\n",
    "token_embeddings = Use_embed_V3(token_inputs)\n",
    "token_outputs = tf.keras.layers.Dense(128, activation='relu')(token_embeddings)\n",
    "token_model = tf.keras.Model(inputs=token_inputs, outputs=token_outputs)\n",
    "\n",
    "#Text Embedding\n",
    "text_inputs=  tf.keras.layers.Input(shape=[], dtype=tf.string, name='Text_Input_Layer')\n",
    "text_vectors = char_vectorizer(text_inputs)\n",
    "text_embeddings = char_vectorizer_embed(text_vectors)\n",
    "text_outputs = tf.keras.layers.Bidirectional(tf.keras.layers.LSTM(25))(text_embeddings)\n",
    "text_model = tf.keras.Model(inputs=text_inputs, outputs=text_outputs)\n",
    "\n",
    "#Concatenate Text & Tokens layer\n",
    "concat_text_token = tf.keras.layers.Concatenate(name='Combined_Layer')([token_model.output, text_model.output])\n",
    "\n",
    "combined_dropout = tf.keras.layers.Dropout(0.5)(concat_text_token)\n",
    "combined_dense = tf.keras.layers.Dense(128, activation='relu')(combined_dropout)\n",
    "final_dropout = tf.keras.layers.Dropout(0.5)(combined_dense)\n",
    "output_layer = tf.keras.layers.Dense(5, activation='softmax')(final_dropout)\n",
    "combined_model = tf.keras.Model(inputs=[token_model.input, text_model.input],\n",
    "                                outputs=output_layer, \n",
    "                                name='combine_model')\n",
    "\n",
    "\n",
    "\n",
    "\n",
    "\n",
    "\n"
   ]
  },
  {
   "cell_type": "code",
   "execution_count": 57,
   "metadata": {},
   "outputs": [
    {
     "name": "stdout",
     "output_type": "stream",
     "text": [
      "Model: \"combine_model\"\n",
      "__________________________________________________________________________________________________\n",
      " Layer (type)                   Output Shape         Param #     Connected to                     \n",
      "==================================================================================================\n",
      " Text_Input_Layer (InputLayer)  [(None,)]            0           []                               \n",
      "                                                                                                  \n",
      " Token_Input_Layer (InputLayer)  [(None,)]           0           []                               \n",
      "                                                                                                  \n",
      " char_vectorizer (TextVectoriza  (None, 290)         0           ['Text_Input_Layer[0][0]']       \n",
      " tion)                                                                                            \n",
      "                                                                                                  \n",
      " keras_layer (KerasLayer)       (None, 512)          147354880   ['Token_Input_Layer[0][0]']      \n",
      "                                                                                                  \n",
      " Embedding_Layer (Embedding)    (None, 290, 25)      950         ['char_vectorizer[1][0]']        \n",
      "                                                                                                  \n",
      " dense_4 (Dense)                (None, 128)          65664       ['keras_layer[1][0]']            \n",
      "                                                                                                  \n",
      " bidirectional (Bidirectional)  (None, 50)           10200       ['Embedding_Layer[1][0]']        \n",
      "                                                                                                  \n",
      " Combined_Layer (Concatenate)   (None, 178)          0           ['dense_4[0][0]',                \n",
      "                                                                  'bidirectional[0][0]']          \n",
      "                                                                                                  \n",
      " dropout (Dropout)              (None, 178)          0           ['Combined_Layer[0][0]']         \n",
      "                                                                                                  \n",
      " dense_5 (Dense)                (None, 128)          22912       ['dropout[0][0]']                \n",
      "                                                                                                  \n",
      " dropout_1 (Dropout)            (None, 128)          0           ['dense_5[0][0]']                \n",
      "                                                                                                  \n",
      " dense_6 (Dense)                (None, 5)            645         ['dropout_1[0][0]']              \n",
      "                                                                                                  \n",
      "==================================================================================================\n",
      "Total params: 147,455,251\n",
      "Trainable params: 100,371\n",
      "Non-trainable params: 147,354,880\n",
      "__________________________________________________________________________________________________\n"
     ]
    }
   ],
   "source": [
    "combined_model.summary()"
   ]
  },
  {
   "cell_type": "code",
   "execution_count": 58,
   "metadata": {},
   "outputs": [
    {
     "data": {
      "image/png": "[encoded data removed]",
      "text/plain": [
       "<IPython.core.display.Image object>"
      ]
     },
     "execution_count": 58,
     "metadata": {},
     "output_type": "execute_result"
    }
   ],
   "source": [
    "plot_model(combined_model, show_shapes=True)"
   ]
  },
  {
   "cell_type": "code",
   "execution_count": 59,
   "metadata": {},
   "outputs": [],
   "source": [
    "combined_model.compile(loss='categorical_crossentropy', \n",
    "                        optimizer='adam', \n",
    "                        metrics = 'accuracy')"
   ]
  },
  {
   "cell_type": "markdown",
   "metadata": {},
   "source": [
    "#### Combine the datasets as well"
   ]
  },
  {
   "cell_type": "code",
   "execution_count": 60,
   "metadata": {},
   "outputs": [],
   "source": [
    "training_labels = ohe.transform(training_data['target'].to_numpy().reshape(-1,1))\n",
    "tf_dataset_combined =  tf.data.Dataset.from_tensor_slices(((training_data['text'],training_data['text_char_level']),   training_labels ))\n",
    "tf_dataset_combined = tf_dataset_combined.batch(32).prefetch(tf.data.AUTOTUNE) # prefetch and batch data for optimal performance\n",
    "\n",
    "validation_dataset_labels = ohe.transform(validation_dataset['target'].to_numpy().reshape(-1,1))\n",
    "tf_valid_combined =  tf.data.Dataset.from_tensor_slices(((validation_dataset['text'],validation_dataset['text_char_level']),   validation_dataset_labels))\n",
    "tf_valid_combined = tf_valid_combined.batch(32).prefetch(tf.data.AUTOTUNE) # prefetch and batch data for optimal performance\n",
    "\n",
    "\n",
    "test_data_labels = ohe.transform(test_data['target'].to_numpy().reshape(-1,1))\n",
    "tf_test_data_combined =  tf.data.Dataset.from_tensor_slices(((test_data['text'],test_data['text_char_level']),  test_data_labels))\n",
    "tf_test_data_combined = tf_test_data_combined.batch(32).prefetch(tf.data.AUTOTUNE) # prefetch and batch data for optimal performance"
   ]
  },
  {
   "cell_type": "code",
   "execution_count": 61,
   "metadata": {},
   "outputs": [
    {
     "name": "stdout",
     "output_type": "stream",
     "text": [
      "Epoch 1/3\n"
     ]
    },
    {
     "name": "stderr",
     "output_type": "stream",
     "text": [
      "2022-02-09 13:43:16.016078: I tensorflow/core/grappler/optimizers/custom_graph_optimizer_registry.cc:112] Plugin optimizer for device_type GPU is enabled.\n",
      "2022-02-09 13:43:19.136385: I tensorflow/core/grappler/optimizers/custom_graph_optimizer_registry.cc:112] Plugin optimizer for device_type GPU is enabled.\n",
      "2022-02-09 13:43:19.349967: I tensorflow/core/grappler/optimizers/custom_graph_optimizer_registry.cc:112] Plugin optimizer for device_type GPU is enabled.\n",
      "2022-02-09 13:43:21.036886: I tensorflow/core/grappler/optimizers/custom_graph_optimizer_registry.cc:112] Plugin optimizer for device_type GPU is enabled.\n",
      "2022-02-09 13:43:21.204424: I tensorflow/core/grappler/optimizers/custom_graph_optimizer_registry.cc:112] Plugin optimizer for device_type GPU is enabled.\n"
     ]
    },
    {
     "name": "stdout",
     "output_type": "stream",
     "text": [
      "845/844 [==============================] - ETA: 0s - loss: 0.8292 - accuracy: 0.6821"
     ]
    },
    {
     "name": "stderr",
     "output_type": "stream",
     "text": [
      "2022-02-09 13:56:00.741697: I tensorflow/core/grappler/optimizers/custom_graph_optimizer_registry.cc:112] Plugin optimizer for device_type GPU is enabled.\n",
      "2022-02-09 13:56:03.554343: I tensorflow/core/grappler/optimizers/custom_graph_optimizer_registry.cc:112] Plugin optimizer for device_type GPU is enabled.\n",
      "2022-02-09 13:56:03.798125: I tensorflow/core/grappler/optimizers/custom_graph_optimizer_registry.cc:112] Plugin optimizer for device_type GPU is enabled.\n"
     ]
    },
    {
     "name": "stdout",
     "output_type": "stream",
     "text": [
      "844/844 [==============================] - 959s 1s/step - loss: 0.8292 - accuracy: 0.6821 - val_loss: 0.6308 - val_accuracy: 0.7642\n",
      "Epoch 2/3\n",
      "844/844 [==============================] - 3071s 4s/step - loss: 0.6666 - accuracy: 0.7521 - val_loss: 0.5900 - val_accuracy: 0.7790\n",
      "Epoch 3/3\n",
      "844/844 [==============================] - 1137s 1s/step - loss: 0.6363 - accuracy: 0.7663 - val_loss: 0.5578 - val_accuracy: 0.7874\n"
     ]
    },
    {
     "data": {
      "text/plain": [
       "<keras.callbacks.History at 0x1791b3d90>"
      ]
     },
     "execution_count": 61,
     "metadata": {},
     "output_type": "execute_result"
    }
   ],
   "source": [
    "combined_model.fit(tf_dataset_combined,steps_per_epoch=len(tf_dataset_combined)* 0.15, validation_data=tf_valid_combined, validation_steps= len(tf_valid_combined) * 0.15, epochs= 3  )"
   ]
  },
  {
   "cell_type": "code",
   "execution_count": 62,
   "metadata": {},
   "outputs": [
    {
     "name": "stderr",
     "output_type": "stream",
     "text": [
      "2022-02-09 15:12:55.615378: I tensorflow/core/grappler/optimizers/custom_graph_optimizer_registry.cc:112] Plugin optimizer for device_type GPU is enabled.\n",
      "2022-02-09 15:12:58.698646: I tensorflow/core/grappler/optimizers/custom_graph_optimizer_registry.cc:112] Plugin optimizer for device_type GPU is enabled.\n",
      "2022-02-09 15:12:58.964709: I tensorflow/core/grappler/optimizers/custom_graph_optimizer_registry.cc:112] Plugin optimizer for device_type GPU is enabled.\n"
     ]
    },
    {
     "data": {
      "text/html": [
       "<div>\n",
       "<style scoped>\n",
       "    .dataframe tbody tr th:only-of-type {\n",
       "        vertical-align: middle;\n",
       "    }\n",
       "\n",
       "    .dataframe tbody tr th {\n",
       "        vertical-align: top;\n",
       "    }\n",
       "\n",
       "    .dataframe thead th {\n",
       "        text-align: right;\n",
       "    }\n",
       "</style>\n",
       "<table border=\"1\" class=\"dataframe\">\n",
       "  <thead>\n",
       "    <tr style=\"text-align: right;\">\n",
       "      <th></th>\n",
       "      <th>accuracy</th>\n",
       "      <th>cohen_kappa_score</th>\n",
       "      <th>recall</th>\n",
       "      <th>precision</th>\n",
       "      <th>f1</th>\n",
       "    </tr>\n",
       "  </thead>\n",
       "  <tbody>\n",
       "    <tr>\n",
       "      <th>Conv1D_Hybrid_Model</th>\n",
       "      <td>0.786229</td>\n",
       "      <td>0.711542</td>\n",
       "      <td>0.786229</td>\n",
       "      <td>0.793302</td>\n",
       "      <td>0.788106</td>\n",
       "    </tr>\n",
       "  </tbody>\n",
       "</table>\n",
       "</div>"
      ],
      "text/plain": [
       "                     accuracy  cohen_kappa_score    recall  precision  \\\n",
       "Conv1D_Hybrid_Model  0.786229           0.711542  0.786229   0.793302   \n",
       "\n",
       "                           f1  \n",
       "Conv1D_Hybrid_Model  0.788106  "
      ]
     },
     "execution_count": 62,
     "metadata": {},
     "output_type": "execute_result"
    }
   ],
   "source": [
    "performance_measure_classification(tf.argmax(combined_model.predict(tf_test_data_combined), axis=1), y_test, 'Conv1D_Hybrid_Model' )"
   ]
  },
  {
   "cell_type": "code",
   "execution_count": 63,
   "metadata": {},
   "outputs": [
    {
     "data": {
      "text/plain": [
       "<keras.engine.functional.Functional at 0x491fdf8b0>"
      ]
     },
     "execution_count": 63,
     "metadata": {},
     "output_type": "execute_result"
    }
   ],
   "source": []
  }
 ],
 "metadata": {
  "interpreter": {
   "hash": "52497887682df271a680150513cbd3a5f6e3d020d7e04556019b2b9bcc034583"
  },
  "kernelspec": {
   "display_name": "Python 3.9.7 64-bit (conda)",
   "language": "python",
   "name": "python3"
  },
  "language_info": {
   "codemirror_mode": {
    "name": "ipython",
    "version": 3
   },
   "file_extension": ".py",
   "mimetype": "text/x-python",
   "name": "python",
   "nbconvert_exporter": "python",
   "pygments_lexer": "ipython3",
   "version": "3.8.9"
  },
  "orig_nbformat": 4
 },
 "nbformat": 4,
 "nbformat_minor": 2
}
